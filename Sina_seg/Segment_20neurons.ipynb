{
 "cells": [
  {
   "cell_type": "code",
   "execution_count": null,
   "id": "67e52355-ef21-4e35-aee8-b3c15b2469d2",
   "metadata": {},
   "outputs": [],
   "source": []
  },
  {
   "cell_type": "code",
   "execution_count": null,
   "id": "23779d06-066d-4f88-9351-0da171f2ac7c",
   "metadata": {},
   "outputs": [],
   "source": []
  },
  {
   "cell_type": "code",
   "execution_count": 1,
   "id": "20f2a923-61b9-46df-a78a-5ac19f462c61",
   "metadata": {},
   "outputs": [
    {
     "name": "stderr",
     "output_type": "stream",
     "text": [
      "2025-03-04 02:20:45.618246: I tensorflow/core/platform/cpu_feature_guard.cc:193] This TensorFlow binary is optimized with oneAPI Deep Neural Network Library (oneDNN) to use the following CPU instructions in performance-critical operations:  AVX2 AVX512F FMA\n",
      "To enable them in other operations, rebuild TensorFlow with the appropriate compiler flags.\n",
      "2025-03-04 02:20:48.038137: W tensorflow/compiler/xla/stream_executor/platform/default/dso_loader.cc:64] Could not load dynamic library 'libnvinfer.so.7'; dlerror: libnvinfer.so.7: cannot open shared object file: No such file or directory; LD_LIBRARY_PATH: /shared/centos7/cuda/11.8/lib64:/shared/centos7/nodejs/14.15.4/lib\n",
      "2025-03-04 02:20:48.038242: W tensorflow/compiler/xla/stream_executor/platform/default/dso_loader.cc:64] Could not load dynamic library 'libnvinfer_plugin.so.7'; dlerror: libnvinfer_plugin.so.7: cannot open shared object file: No such file or directory; LD_LIBRARY_PATH: /shared/centos7/cuda/11.8/lib64:/shared/centos7/nodejs/14.15.4/lib\n",
      "2025-03-04 02:20:48.038251: W tensorflow/compiler/tf2tensorrt/utils/py_utils.cc:38] TF-TRT Warning: Cannot dlopen some TensorRT libraries. If you would like to use Nvidia GPU with TensorRT, please make sure the missing libraries mentioned above are installed properly.\n"
     ]
    },
    {
     "name": "stdout",
     "output_type": "stream",
     "text": [
      "2.11.0\n"
     ]
    }
   ],
   "source": [
    "import tensorflow as tf\n",
    "print(tf.__version__)"
   ]
  },
  {
   "cell_type": "code",
   "execution_count": null,
   "id": "7cb8398d-777d-4158-aa5c-b3ff13bae342",
   "metadata": {},
   "outputs": [],
   "source": []
  },
  {
   "cell_type": "code",
   "execution_count": null,
   "id": "4f001b75-16b8-4706-a19d-c29098005d88",
   "metadata": {},
   "outputs": [],
   "source": []
  },
  {
   "cell_type": "code",
   "execution_count": null,
   "id": "467cec97-1118-4a55-9043-b40049600bdd",
   "metadata": {},
   "outputs": [],
   "source": []
  },
  {
   "cell_type": "code",
   "execution_count": null,
   "id": "dbefa268-2efb-42a8-80f0-6a8dc40f5212",
   "metadata": {},
   "outputs": [],
   "source": []
  },
  {
   "cell_type": "markdown",
   "id": "02d59d02-a029-4f6a-a8e2-a3eebfed307f",
   "metadata": {},
   "source": [
    "### This notebook is for Sina to run the 3D segmentation and extract the centriod of the neurons"
   ]
  },
  {
   "cell_type": "markdown",
   "id": "4dc4f39f-4fc0-4800-948b-b2ff1bfd1799",
   "metadata": {},
   "source": [
    "- install tensorflow and stardist"
   ]
  },
  {
   "cell_type": "code",
   "execution_count": 2,
   "id": "90e12dfe-be20-4b87-92b5-b1e3d0d6d569",
   "metadata": {},
   "outputs": [
    {
     "name": "stdout",
     "output_type": "stream",
     "text": [
      "TensorFlow version: 2.11.0\n",
      "StarDist version: 0.9.1\n"
     ]
    }
   ],
   "source": [
    "import tensorflow as tf\n",
    "from stardist import __version__ as stardist_version\n",
    "print(\"TensorFlow version:\", tf.__version__)\n",
    "print(\"StarDist version:\", stardist_version)"
   ]
  },
  {
   "cell_type": "markdown",
   "id": "882b1409-1037-4265-800e-ca3ae1d7ec10",
   "metadata": {},
   "source": [
    "- load the modules"
   ]
  },
  {
   "cell_type": "code",
   "execution_count": 3,
   "id": "3f0cbc99-b741-4554-9d8b-191ba5523838",
   "metadata": {},
   "outputs": [
    {
     "name": "stdout",
     "output_type": "stream",
     "text": [
      "True\n",
      "Tesla V100-SXM2-32GB\n",
      "True\n",
      "2.11.0\n",
      "[PhysicalDevice(name='/physical_device:GPU:0', device_type='GPU')]\n"
     ]
    }
   ],
   "source": [
    "import sys\n",
    "import os\n",
    "from func_seg import *"
   ]
  },
  {
   "cell_type": "markdown",
   "id": "dcb470fa-9972-4f8f-93e8-b30f6129aca1",
   "metadata": {},
   "source": [
    "- load stardist 3D and model weights"
   ]
  },
  {
   "cell_type": "code",
   "execution_count": 4,
   "id": "0858bfd5-4d81-42a7-beac-b723e2d4bb3c",
   "metadata": {
    "scrolled": true
   },
   "outputs": [
    {
     "name": "stdout",
     "output_type": "stream",
     "text": [
      "use_gpu:  True\n"
     ]
    },
    {
     "name": "stderr",
     "output_type": "stream",
     "text": [
      "base_model.py (203): output path for model already exists, files may be overwritten: /work/venkatachalamlab/Hang/Jin/Segmentation/seg/models/stardist\n",
      "2025-03-04 02:21:00.310102: I tensorflow/core/platform/cpu_feature_guard.cc:193] This TensorFlow binary is optimized with oneAPI Deep Neural Network Library (oneDNN) to use the following CPU instructions in performance-critical operations:  AVX2 AVX512F FMA\n",
      "To enable them in other operations, rebuild TensorFlow with the appropriate compiler flags.\n",
      "2025-03-04 02:21:00.454438: I tensorflow/core/common_runtime/gpu/gpu_device.cc:1613] Created device /job:localhost/replica:0/task:0/device:GPU:0 with 31141 MB memory:  -> device: 0, name: Tesla V100-SXM2-32GB, pci bus id: 0000:3b:00.0, compute capability: 7.0\n"
     ]
    },
    {
     "name": "stdout",
     "output_type": "stream",
     "text": [
      "Loading thresholds from 'thresholds.json'.\n",
      "Using default values: prob_thresh=0.707933, nms_thresh=0.3.\n",
      "There are 4 registered models for 'StarDist2D':\n",
      "\n",
      "Name                  Alias(es)\n",
      "────                  ─────────\n",
      "'2D_versatile_fluo'   'Versatile (fluorescent nuclei)'\n",
      "'2D_versatile_he'     'Versatile (H&E nuclei)'\n",
      "'2D_paper_dsb2018'    'DSB 2018 (from StarDist 2D paper)'\n",
      "'2D_demo'             None\n",
      "Found model '2D_versatile_fluo' for 'StarDist2D'.\n",
      "Loading network weights from 'weights_best.h5'.\n",
      "Loading thresholds from 'thresholds.json'.\n",
      "Using default values: prob_thresh=0.479071, nms_thresh=0.3.\n"
     ]
    }
   ],
   "source": [
    "model_weights_path = 'weights_best_42stacks_all.h5'\n",
    "model, model_2D = load_model_3D_and_2D(model_weights_path)"
   ]
  },
  {
   "cell_type": "code",
   "execution_count": null,
   "id": "ee98eb02-7d71-443c-8c8f-33192a626ea0",
   "metadata": {},
   "outputs": [],
   "source": []
  },
  {
   "cell_type": "code",
   "execution_count": null,
   "id": "ad2b6970-f7f8-4ffa-98c0-25c4b1733523",
   "metadata": {},
   "outputs": [],
   "source": []
  },
  {
   "cell_type": "markdown",
   "id": "0a976324-6b99-47c1-95c5-46921636535f",
   "metadata": {},
   "source": [
    "- specify the dataset path, channel, saved folder\n",
    "- the data.h5 store [frame, channel, depth, width, heighth]\n",
    "- obtain the raw segmentation "
   ]
  },
  {
   "cell_type": "code",
   "execution_count": 5,
   "id": "77633573-3118-44f7-9fcc-7c6e3ac15533",
   "metadata": {},
   "outputs": [],
   "source": [
    "# dataset_path = Path('/work/venkatachalamlab/Hang/00Identify_neuron/datasets/sexual_dimorphism_frame/male/20220329_male_10_processed')\n",
    "dataset_path = Path('/work/venkatachalamlab/Hang/Jin')\n",
    "ch = 1 ## specify the channel to segmentation\n",
    "zoom_factor = 1\n",
    "seg_path = dataset_path/'seg' ## saved folder\n",
    "seg_path.mkdir(parents=True, exist_ok=True)  # Create the directory if it doesn't exist\n",
    "t_idx = 100 ## select which frame\n",
    "gamma = 0.1"
   ]
  },
  {
   "cell_type": "markdown",
   "id": "fa407e31-0b58-4556-9524-7fe21fbbf5e0",
   "metadata": {},
   "source": [
    "## hey Jin, this is the raw segmentation from the trained 3D stardist"
   ]
  },
  {
   "cell_type": "code",
   "execution_count": 6,
   "id": "278ae5e5-d26c-4394-a7ce-8d6e19c3b81c",
   "metadata": {},
   "outputs": [],
   "source": [
    "import matplotlib.pyplot as plt"
   ]
  },
  {
   "cell_type": "code",
   "execution_count": 7,
   "id": "e6ae8942-61b3-4ee2-84e8-d3b22f53a90a",
   "metadata": {},
   "outputs": [
    {
     "name": "stderr",
     "output_type": "stream",
     "text": [
      "2025-03-04 02:21:02.806762: I tensorflow/compiler/xla/stream_executor/cuda/cuda_dnn.cc:428] Loaded cuDNN version 8903\n"
     ]
    },
    {
     "data": {
      "text/plain": [
       "((17,),)"
      ]
     },
     "execution_count": 7,
     "metadata": {},
     "output_type": "execute_result"
    }
   ],
   "source": [
    "img_original,_ = get_volume_at_frame(os.path.join(dataset_path,'data.h5'),t_idx)    \n",
    "img_zoom = scipy.ndimage.zoom(img_original[0,ch],[1,zoom_factor,zoom_factor],order = 0)\n",
    "\n",
    "\n",
    "if gamma is not None:\n",
    "    img_zoom = gamma_correction(img_zoom, gamma)\n",
    "\n",
    "img_norm = normalize(img_zoom, 1,95.8)\n",
    "img_proj_pred = get_mask_from_proj_pred(model_2D,img_zoom)\n",
    "np.unique(img_proj_pred).shape,  ## the number of found neurons,"
   ]
  },
  {
   "cell_type": "code",
   "execution_count": null,
   "id": "6efb2dfc-4a34-4971-875f-96ae9a61ba37",
   "metadata": {},
   "outputs": [],
   "source": []
  },
  {
   "cell_type": "code",
   "execution_count": null,
   "id": "6a719046-5ab0-4087-8668-809a6812b946",
   "metadata": {},
   "outputs": [],
   "source": []
  },
  {
   "cell_type": "code",
   "execution_count": null,
   "id": "eedbc984-df3e-4163-bc0e-0091944f92f4",
   "metadata": {},
   "outputs": [],
   "source": []
  },
  {
   "cell_type": "code",
   "execution_count": 8,
   "id": "d5c9ecbb-1129-4f12-8c60-d7cf30da60de",
   "metadata": {},
   "outputs": [
    {
     "data": {
      "text/plain": [
       "25"
      ]
     },
     "execution_count": 8,
     "metadata": {},
     "output_type": "execute_result"
    }
   ],
   "source": [
    "from skimage.segmentation import watershed\n",
    "from skimage.morphology import remove_small_objects\n",
    "from scipy.ndimage import distance_transform_edt\n",
    "from skimage.feature import peak_local_max, corner_peaks\n",
    "from skimage.measure import label\n",
    "from scipy import ndimage as ndi\n",
    "import numpy as np  \n",
    "from glob import glob\n",
    "# from csbdeep.utils import Path, normalize\n",
    "from csbdeep.io import save_tiff_imagej_compatible\n",
    "import stardist\n",
    "from stardist import random_label_cmap, _draw_polygons, export_imagej_rois\n",
    "from stardist.models import StarDist2D\n",
    "from stardist.plot import render_label\n",
    "\n",
    "from scipy import ndimage\n",
    "import skimage\n",
    "import copy\n",
    "\n",
    "from skimage.measure import regionprops_table\n",
    "import pandas as pd\n",
    "\n",
    "def get_merged_label(labels_xy_slice):\n",
    "    properties = ['label', 'coords']\n",
    "\n",
    "    region_props = regionprops_table(labels_xy_slice, properties=properties)\n",
    "    region_props_df = pd.DataFrame(region_props)\n",
    "\n",
    "    offsets = np.array([[-1, -1], [-1, 0], [-1, 1],\n",
    "                        [0, -1],  [0, 0],   [0, 1],\n",
    "                        [1, -1],  [1, 0],   [1, 1]])\n",
    "    region_props_df['nearby_label'] = [None] * len(region_props_df)\n",
    "    region_props_df['num_nearby_label'] = [None] * len(region_props_df)\n",
    "    # image_shape = labels_xy_slice.shape\n",
    "    for i in range(len(region_props_df)):\n",
    "        coords = region_props_df['coords'][i]  # Shape (N, 2)\n",
    "        connected_points = coords[:, np.newaxis, :] + offsets  # Shape (N, 9, 2) \n",
    "        ## since padded image, so the nearby boundary must be within the bound of the padded image\n",
    "        connected_points = connected_points.reshape(-1, 2)\n",
    "        connected_points = connected_points[(connected_points[:,0]>=0) &\n",
    "                                            (connected_points[:,0]<labels_xy_slice.shape[0]) & \n",
    "                                            (connected_points[:,1]>=0) & \n",
    "                                            (connected_points[:,1]<labels_xy_slice.shape[1])]\n",
    "\n",
    "        seg_ID = labels_xy_slice[connected_points[:,0],connected_points[:,1]]\n",
    "        region_props_df.at[i, 'nearby_label'] = np.unique(seg_ID[seg_ID>0])\n",
    "        region_props_df.at[i, 'num_nearby_label'] = len(np.unique(seg_ID[seg_ID>0]))\n",
    "\n",
    "\n",
    "    nearby_label = region_props_df['label'][region_props_df['num_nearby_label']>1].values\n",
    "    return nearby_label\n",
    "        \n",
    "def find_overlapping_contours(labels_xy_slice):\n",
    "        # unique_labels = np.unique(labels_xy_slice[labels_xy_slice>0])\n",
    "        unique_labels = get_merged_label(labels_xy_slice)\n",
    "        if len(unique_labels)>0:\n",
    "            contours = [] \n",
    "            for label in unique_labels:\n",
    "                contour = skimage.measure.find_contours((labels_xy_slice == label)*1, 0)[0]\n",
    "                contours += np.unique(contour, axis=0).tolist()\n",
    "\n",
    "            contours = np.array(contours).astype(int).reshape(-1,2)\n",
    "\n",
    "\n",
    "            # Ensure contours is at least 2D before indexing\n",
    "            # if len(contours.shape) == 1:\n",
    "            #     raise ValueError(\"Contours array is 1-dimensional, expected 2-dimensional.\")\n",
    "            \n",
    "\n",
    "            ind = (labels_xy_slice[contours[:, 0], contours[:, 1]]>0)\n",
    "            nearby_points = contours[ind]\n",
    "            return nearby_points\n",
    "        else:\n",
    "            return []\n",
    "\n",
    "\n",
    "def remove_overlapping_contours(labels_xy):\n",
    "        labels_xy_isolated = copy.deepcopy(labels_xy)\n",
    "        for z in range(labels_xy.shape[0]):\n",
    "            labels_xy_slice = labels_xy[z]\n",
    "            if not np.all(labels_xy[z] == 0):\n",
    "                nearby_points = find_overlapping_contours(labels_xy_slice)\n",
    "                if len(nearby_points)>0:\n",
    "                    labels_xy_isolated[z, nearby_points[:, 0], nearby_points[:, 1]] = 0\n",
    "        return labels_xy_isolated\n",
    "\n",
    "\n",
    "def apply_watershed_3d(labels_xy):\n",
    "    voxel_spacing = (1.0, 1.0, 1.0)  \n",
    "    distance = distance_transform_edt(labels_xy > 0, sampling=voxel_spacing)\n",
    "    \n",
    "    # local_maxi = peak_local_max(distance, \n",
    "    #                             # indices=False, \n",
    "    #                             footprint=np.ones((3,3,3)), \n",
    "    #                             labels=stack)\n",
    "\n",
    "\n",
    "    local_maxi = corner_peaks(distance, min_distance=5)  # Adjust `min_distance` as needed\n",
    "\n",
    "    \n",
    "    local_maxi_mask = np.zeros_like(distance, dtype=bool)\n",
    "    local_maxi_mask[tuple(local_maxi.T)] = True\n",
    "    # markers,_ = ndi.label(local_maxi_mask)\n",
    "    markers = label(local_maxi_mask)\n",
    "\n",
    "    \n",
    "\n",
    "    labels = watershed(-distance*(labels_xy>0) , \n",
    "                       markers.astype(np.int32), \n",
    "                       mask=labels_xy.astype(bool)\n",
    "                      )\n",
    "    \n",
    "    return labels\n",
    "\n",
    "def get_stack_seg(img_zoom):\n",
    "    img_z_slice = []\n",
    "    depth = img_zoom.shape[0]\n",
    "    for z in range(depth):\n",
    "        img_xy = normalize(img_zoom[z],1,90)\n",
    "        # img_xy = img_norm[z]\n",
    "        # label_z, _ = model_2D.predict_instances(img_xy* (img_proj_pred>0))\n",
    "        label_z, _ = model_2D.predict_instances(img_xy)\n",
    "        img_z_slice.append(label_z)\n",
    "    img_z_slice = np.array(img_z_slice)\n",
    "    return img_z_slice\n",
    "\n",
    "img_z_slice = get_stack_seg(img_zoom) ### please note here using (1,90) to nomalize the bright area\n",
    "labels_xy = remove_overlapping_contours(img_z_slice)\n",
    "segmented_stack = apply_watershed_3d(labels_xy)\n",
    "len(np.unique(segmented_stack))\n"
   ]
  },
  {
   "cell_type": "code",
   "execution_count": null,
   "id": "5487c62e-c873-47c4-85f1-1eaf372a0464",
   "metadata": {},
   "outputs": [],
   "source": []
  },
  {
   "cell_type": "code",
   "execution_count": null,
   "id": "0ed6822b-9575-407e-bbee-6ffc5fc15d6d",
   "metadata": {},
   "outputs": [],
   "source": []
  },
  {
   "cell_type": "code",
   "execution_count": null,
   "id": "403b110c-4e71-4b1e-a453-83468e3e82fb",
   "metadata": {},
   "outputs": [],
   "source": []
  },
  {
   "cell_type": "code",
   "execution_count": null,
   "id": "616dcc36-ccf2-42bf-be90-c5e61974d57b",
   "metadata": {},
   "outputs": [],
   "source": []
  },
  {
   "cell_type": "code",
   "execution_count": 14,
   "id": "e9b28921-ef0e-430e-9d75-e20831d38dcf",
   "metadata": {},
   "outputs": [
    {
     "data": {
      "image/png": "[encoded data removed]",
      "text/plain": [
       "<Figure size 640x480 with 1 Axes>"
      ]
     },
     "metadata": {},
     "output_type": "display_data"
    }
   ],
   "source": [
    "from load_func import *\n",
    "combined_df_t_idx = load_annotations_h5_t_idx(dataset_path/'annotations.h5',t_idx)\n",
    "pos = get_abs_pos(combined_df_t_idx,segmented_stack.shape)\n",
    "img_plot = img_zoom.max(0)\n",
    "# plt.imshow(img_proj_pred)\n",
    "plt.imshow(img_plot)\n",
    "plt.plot(pos[:,2],pos[:,1],'r.',markersize = 1)\n",
    "plt.title(\"maximum projection in z\")\n",
    "plt.show()"
   ]
  },
  {
   "cell_type": "code",
   "execution_count": null,
   "id": "9f5f16a5-b5cd-4a59-9f07-69b05ecf9530",
   "metadata": {},
   "outputs": [],
   "source": []
  },
  {
   "cell_type": "code",
   "execution_count": null,
   "id": "8504c3b0-e30c-46cb-b2e4-12fa47261b59",
   "metadata": {},
   "outputs": [],
   "source": [
    "for z in range(25):\n",
    "    plt.figure(figsize =(10, 5)) \n",
    "    plt.imshow(segmented_stack[z], cmap=plt.cm.tab20)  # Use `cmap` instead of `color` \n",
    "    # plt.imshow(img_original[0,ch,z]) \n",
    "    # plt.imshow(adjusted[z])\n",
    "    # plt.imshow(img_norm[z])\n",
    "    ind = pos[:,0] ==z\n",
    "    if np.sum(ind)>0:\n",
    "        plt.plot(pos[ind,2],pos[ind,1],'r.',markersize = 5)\n",
    "    plt.title(z)\n",
    "    plt.show() "
   ]
  },
  {
   "cell_type": "code",
   "execution_count": null,
   "id": "05e54692-8c30-4fc5-aa1a-d22d8e1c4338",
   "metadata": {},
   "outputs": [],
   "source": []
  },
  {
   "cell_type": "code",
   "execution_count": null,
   "id": "c0ce5ad7-bb17-49ec-b6e3-c55a41caab8c",
   "metadata": {},
   "outputs": [],
   "source": []
  },
  {
   "cell_type": "code",
   "execution_count": null,
   "id": "15fe12b8-ed7e-441c-b669-05c396a507f5",
   "metadata": {},
   "outputs": [],
   "source": []
  },
  {
   "cell_type": "code",
   "execution_count": null,
   "id": "07e0e168-4cd7-4839-add6-5318a3d3b971",
   "metadata": {},
   "outputs": [],
   "source": []
  },
  {
   "cell_type": "markdown",
   "id": "fc124d24-6f55-45b6-9c47-fb00cd827acb",
   "metadata": {},
   "source": [
    "- extract the centroid from the segmentation\n",
    "- use these centroid to group the 2D segmented nuclei\n",
    "- apply watershed algorithm"
   ]
  },
  {
   "cell_type": "code",
   "execution_count": null,
   "id": "d90ebab6-796e-42ae-b58f-5b20a0bbf247",
   "metadata": {},
   "outputs": [],
   "source": []
  },
  {
   "cell_type": "code",
   "execution_count": null,
   "id": "22ad4835-9396-4c52-a413-dc8d3c8072f4",
   "metadata": {},
   "outputs": [],
   "source": []
  },
  {
   "cell_type": "markdown",
   "id": "aac9ac36-232d-4e2f-8e83-fc22f23edbdb",
   "metadata": {},
   "source": [
    "### **3D Region Properties in `regionprops_table`**\n",
    "| Property                         | Description |\n",
    "|----------------------------------|-------------|\n",
    "| `'centroid'`                     | Center of mass (x, y, z) |\n",
    "| `'area'`                         | Number of voxels in the region |\n",
    "| `'bbox'`                         | Bounding box (min/max in x, y, z) |\n",
    "| `'axis_major_length'`            | Largest principal axis length (3D equivalent of major axis) |\n",
    "| `'axis_minor_length'`            | Smallest principal axis length |\n",
    "| `'equivalent_diameter'`          | Diameter of a sphere with the same volume |\n",
    "| `'extent'`                       | Ratio of voxel volume to bounding box volume |\n",
    "| `'solidity'`                     | Ratio of voxel volume to convex hull volume |\n",
    "| `'convex_area'`                  | Number of voxels in the convex hull |\n",
    "| `'convex_volume'`                | Volume of the convex hull |\n",
    "| `'eccentricity'`                 | Measure of how elongated the object is |\n",
    "| `'euler_number'`                 | Number of connected components minus holes |\n",
    "| `'feret_diameter_max'`           | Maximum distance between two boundary points |\n",
    "| `'perimeter'`                    | Perimeter in pixels along the object surface |\n",
    "| `'sphericity'`                   | Measures how close the shape is to a sphere (higher = more spherical) |\n",
    "| `'max_intensity'`                | Maximum intensity in the region |\n",
    "| `'mean_intensity'`               | Mean intensity |\n",
    "| `'min_intensity'`                | Minimum intensity |\n",
    "| `'standard_deviation_intensity'` | Standard deviation of intensities |\n",
    "| `'sum_intensity'`                | Sum of all intensity values in the region |\n",
    "\"\"\""
   ]
  },
  {
   "cell_type": "code",
   "execution_count": null,
   "id": "d2ecafcf-baa3-4090-88fa-cfa880b0cff3",
   "metadata": {},
   "outputs": [],
   "source": []
  },
  {
   "cell_type": "code",
   "execution_count": null,
   "id": "b2e44210-16f1-4ff8-8ee9-bcb713d42af9",
   "metadata": {},
   "outputs": [],
   "source": []
  },
  {
   "cell_type": "code",
   "execution_count": 16,
   "id": "144f0ec5-51e2-4825-868b-b7638f497465",
   "metadata": {},
   "outputs": [
    {
     "data": {
      "text/html": [
       "<div>\n",
       "<style scoped>\n",
       "    .dataframe tbody tr th:only-of-type {\n",
       "        vertical-align: middle;\n",
       "    }\n",
       "\n",
       "    .dataframe tbody tr th {\n",
       "        vertical-align: top;\n",
       "    }\n",
       "\n",
       "    .dataframe thead th {\n",
       "        text-align: right;\n",
       "    }\n",
       "</style>\n",
       "<table border=\"1\" class=\"dataframe\">\n",
       "  <thead>\n",
       "    <tr style=\"text-align: right;\">\n",
       "      <th></th>\n",
       "      <th>centroid-0</th>\n",
       "      <th>centroid-1</th>\n",
       "      <th>centroid-2</th>\n",
       "      <th>area</th>\n",
       "    </tr>\n",
       "  </thead>\n",
       "  <tbody>\n",
       "    <tr>\n",
       "      <th>0</th>\n",
       "      <td>4.704380</td>\n",
       "      <td>114.266423</td>\n",
       "      <td>366.927007</td>\n",
       "      <td>274.0</td>\n",
       "    </tr>\n",
       "    <tr>\n",
       "      <th>1</th>\n",
       "      <td>5.426304</td>\n",
       "      <td>134.665533</td>\n",
       "      <td>468.727891</td>\n",
       "      <td>882.0</td>\n",
       "    </tr>\n",
       "    <tr>\n",
       "      <th>2</th>\n",
       "      <td>6.564706</td>\n",
       "      <td>139.470588</td>\n",
       "      <td>351.747059</td>\n",
       "      <td>170.0</td>\n",
       "    </tr>\n",
       "    <tr>\n",
       "      <th>3</th>\n",
       "      <td>6.030075</td>\n",
       "      <td>141.067669</td>\n",
       "      <td>217.015038</td>\n",
       "      <td>133.0</td>\n",
       "    </tr>\n",
       "    <tr>\n",
       "      <th>4</th>\n",
       "      <td>6.248780</td>\n",
       "      <td>142.287805</td>\n",
       "      <td>203.258537</td>\n",
       "      <td>205.0</td>\n",
       "    </tr>\n",
       "    <tr>\n",
       "      <th>5</th>\n",
       "      <td>6.355910</td>\n",
       "      <td>171.877822</td>\n",
       "      <td>435.195219</td>\n",
       "      <td>753.0</td>\n",
       "    </tr>\n",
       "    <tr>\n",
       "      <th>6</th>\n",
       "      <td>7.565217</td>\n",
       "      <td>140.097826</td>\n",
       "      <td>231.885870</td>\n",
       "      <td>184.0</td>\n",
       "    </tr>\n",
       "    <tr>\n",
       "      <th>7</th>\n",
       "      <td>8.199183</td>\n",
       "      <td>98.087845</td>\n",
       "      <td>457.347293</td>\n",
       "      <td>979.0</td>\n",
       "    </tr>\n",
       "    <tr>\n",
       "      <th>8</th>\n",
       "      <td>8.339623</td>\n",
       "      <td>111.547170</td>\n",
       "      <td>461.698113</td>\n",
       "      <td>53.0</td>\n",
       "    </tr>\n",
       "    <tr>\n",
       "      <th>9</th>\n",
       "      <td>8.482759</td>\n",
       "      <td>112.517241</td>\n",
       "      <td>457.844828</td>\n",
       "      <td>58.0</td>\n",
       "    </tr>\n",
       "    <tr>\n",
       "      <th>10</th>\n",
       "      <td>8.447368</td>\n",
       "      <td>155.131579</td>\n",
       "      <td>361.815789</td>\n",
       "      <td>76.0</td>\n",
       "    </tr>\n",
       "    <tr>\n",
       "      <th>11</th>\n",
       "      <td>9.000000</td>\n",
       "      <td>117.566038</td>\n",
       "      <td>417.320755</td>\n",
       "      <td>53.0</td>\n",
       "    </tr>\n",
       "    <tr>\n",
       "      <th>12</th>\n",
       "      <td>9.644231</td>\n",
       "      <td>138.437500</td>\n",
       "      <td>209.990385</td>\n",
       "      <td>208.0</td>\n",
       "    </tr>\n",
       "    <tr>\n",
       "      <th>13</th>\n",
       "      <td>10.477876</td>\n",
       "      <td>114.911504</td>\n",
       "      <td>354.008850</td>\n",
       "      <td>113.0</td>\n",
       "    </tr>\n",
       "    <tr>\n",
       "      <th>14</th>\n",
       "      <td>10.500000</td>\n",
       "      <td>163.088333</td>\n",
       "      <td>362.560000</td>\n",
       "      <td>600.0</td>\n",
       "    </tr>\n",
       "    <tr>\n",
       "      <th>15</th>\n",
       "      <td>12.705882</td>\n",
       "      <td>112.219251</td>\n",
       "      <td>212.101604</td>\n",
       "      <td>187.0</td>\n",
       "    </tr>\n",
       "    <tr>\n",
       "      <th>16</th>\n",
       "      <td>12.564706</td>\n",
       "      <td>118.533333</td>\n",
       "      <td>234.458824</td>\n",
       "      <td>255.0</td>\n",
       "    </tr>\n",
       "    <tr>\n",
       "      <th>17</th>\n",
       "      <td>12.283333</td>\n",
       "      <td>120.138889</td>\n",
       "      <td>210.600000</td>\n",
       "      <td>180.0</td>\n",
       "    </tr>\n",
       "    <tr>\n",
       "      <th>18</th>\n",
       "      <td>15.526316</td>\n",
       "      <td>135.359649</td>\n",
       "      <td>352.403509</td>\n",
       "      <td>114.0</td>\n",
       "    </tr>\n",
       "    <tr>\n",
       "      <th>19</th>\n",
       "      <td>15.066116</td>\n",
       "      <td>141.309917</td>\n",
       "      <td>204.049587</td>\n",
       "      <td>242.0</td>\n",
       "    </tr>\n",
       "    <tr>\n",
       "      <th>20</th>\n",
       "      <td>16.211111</td>\n",
       "      <td>115.370370</td>\n",
       "      <td>363.925926</td>\n",
       "      <td>270.0</td>\n",
       "    </tr>\n",
       "    <tr>\n",
       "      <th>21</th>\n",
       "      <td>15.936000</td>\n",
       "      <td>144.360000</td>\n",
       "      <td>229.960000</td>\n",
       "      <td>125.0</td>\n",
       "    </tr>\n",
       "    <tr>\n",
       "      <th>22</th>\n",
       "      <td>15.938462</td>\n",
       "      <td>145.938462</td>\n",
       "      <td>217.153846</td>\n",
       "      <td>130.0</td>\n",
       "    </tr>\n",
       "    <tr>\n",
       "      <th>23</th>\n",
       "      <td>17.000000</td>\n",
       "      <td>107.537815</td>\n",
       "      <td>389.159664</td>\n",
       "      <td>119.0</td>\n",
       "    </tr>\n",
       "  </tbody>\n",
       "</table>\n",
       "</div>"
      ],
      "text/plain": [
       "    centroid-0  centroid-1  centroid-2   area\n",
       "0     4.704380  114.266423  366.927007  274.0\n",
       "1     5.426304  134.665533  468.727891  882.0\n",
       "2     6.564706  139.470588  351.747059  170.0\n",
       "3     6.030075  141.067669  217.015038  133.0\n",
       "4     6.248780  142.287805  203.258537  205.0\n",
       "5     6.355910  171.877822  435.195219  753.0\n",
       "6     7.565217  140.097826  231.885870  184.0\n",
       "7     8.199183   98.087845  457.347293  979.0\n",
       "8     8.339623  111.547170  461.698113   53.0\n",
       "9     8.482759  112.517241  457.844828   58.0\n",
       "10    8.447368  155.131579  361.815789   76.0\n",
       "11    9.000000  117.566038  417.320755   53.0\n",
       "12    9.644231  138.437500  209.990385  208.0\n",
       "13   10.477876  114.911504  354.008850  113.0\n",
       "14   10.500000  163.088333  362.560000  600.0\n",
       "15   12.705882  112.219251  212.101604  187.0\n",
       "16   12.564706  118.533333  234.458824  255.0\n",
       "17   12.283333  120.138889  210.600000  180.0\n",
       "18   15.526316  135.359649  352.403509  114.0\n",
       "19   15.066116  141.309917  204.049587  242.0\n",
       "20   16.211111  115.370370  363.925926  270.0\n",
       "21   15.936000  144.360000  229.960000  125.0\n",
       "22   15.938462  145.938462  217.153846  130.0\n",
       "23   17.000000  107.537815  389.159664  119.0"
      ]
     },
     "execution_count": 16,
     "metadata": {},
     "output_type": "execute_result"
    }
   ],
   "source": [
    "from skimage.measure import regionprops\n",
    "props = regionprops_table(\n",
    "    segmented_stack ,\n",
    "    properties=('centroid','area'),\n",
    ")\n",
    "## 'centroid' is the coordinates of neurons\n",
    "pd.DataFrame(props)"
   ]
  },
  {
   "cell_type": "code",
   "execution_count": null,
   "id": "993b138a-8eb6-4673-83ff-a5277bc8995a",
   "metadata": {},
   "outputs": [],
   "source": []
  },
  {
   "cell_type": "code",
   "execution_count": null,
   "id": "81c18da2-8343-441c-ab41-9af6979dac7e",
   "metadata": {},
   "outputs": [],
   "source": []
  },
  {
   "cell_type": "code",
   "execution_count": null,
   "id": "26e654ca-a453-4a0e-b83c-a0f8a28a8d6b",
   "metadata": {},
   "outputs": [],
   "source": []
  }
 ],
 "metadata": {
  "kernelspec": {
   "display_name": "Python 3 (ipykernel)",
   "language": "python",
   "name": "python3"
  },
  "language_info": {
   "codemirror_mode": {
    "name": "ipython",
    "version": 3
   },
   "file_extension": ".py",
   "mimetype": "text/x-python",
   "name": "python",
   "nbconvert_exporter": "python",
   "pygments_lexer": "ipython3",
   "version": "3.10.15"
  }
 },
 "nbformat": 4,
 "nbformat_minor": 5
}
